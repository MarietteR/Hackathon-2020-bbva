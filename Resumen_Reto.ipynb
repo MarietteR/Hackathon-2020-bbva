{
 "cells": [
  {
   "cell_type": "markdown",
   "metadata": {},
   "source": [
    "## Reto Interpretador inteligente"
   ]
  },
  {
   "cell_type": "markdown",
   "metadata": {},
   "source": [
    "RETO: Clasificar y analizar documentos\n",
    "        * Procesar\n",
    "        * Almacenar\n",
    "        * Categorizar"
   ]
  },
  {
   "cell_type": "markdown",
   "metadata": {},
   "source": [
    "OBJETIVO: Extraer información clave de los documentos que radican los clientes para solicitar un crédito con el banco"
   ]
  },
  {
   "cell_type": "markdown",
   "metadata": {},
   "source": [
    "Actualmente: Una persona o representate de una Pyme, se acerca a su   persona de confianza (intermediario) y entrega una carpeta de documentos. Unavez están completos los envían a otra área (operaciones) y trascriben la información importante y la envían al área de estudio de cŕedito.\n",
    "\n",
    "1) El programa debe tener un contenedor temporal de archivos.\n",
    "\n",
    "2) El programa escanea y guarda los archivos por cliente en el contendor temporal(nube).\n",
    "\n",
    "3) El programa debe verificar si el cliente entregó o no todos los documentos e informar al banco el estado (completos o no completos). (Importante diccionario de sinónimos)\n",
    "\n",
    "4) Una vez estén completos los archivos, proceder con el procesamiento de los mismos (limpieza y clasificación).\n",
    "\n",
    "5) Se clasifica la información (tomador, deudores solidarios, otras prendas).\n",
    "\n",
    "6) Se extrae la información relavante (intetaré ver un formulario de una pyme en MAPFRE para identificar información importante y compararla con los imputs que nos van a dar), entre ella:\n",
    "\n",
    "        Nombre cliente (NO)\n",
    "        Identificación\n",
    "        Fecha de aplicación\n",
    "        Monto a solicitar\n",
    "        Respaldo             \n",
    "        ... entre otros que identifiquemos\n",
    "        \n",
    "        Variables a extraer de las imágenes:\n",
    "            i. Balance General\n",
    "                Caja y efectivo\n",
    "                Total Activo\n",
    "                Total Pasivo\n",
    "                Total Patrimonio\n",
    "            ii.Estado pérdidas y ganancias:\n",
    "                Ventas\n",
    "                Costos de ventas\n",
    "                Utilidad Bruta\n",
    "                Utilidad Operacional\n",
    "                Utilidad antes de impuestos\n",
    "                Utilidad Neta\n",
    "            iii. General\n",
    "                Fecha (en que se tomó el balance)\n",
    "                Unidades de medida (pesos o miles o millones)\n",
    "                \n",
    "7) Ideal compilar la infomarción resultante en un archivo de texto como .csv\n"
   ]
  },
  {
   "cell_type": "markdown",
   "metadata": {},
   "source": [
    "CRITERIOS A EVALUAR:\n",
    "\n",
    "1) Innovación y creatividad\n",
    "\n",
    "2) Ejecución:\n",
    "\n",
    "    Precisión en la extracción de Datos.\n",
    "    Replicabilidad del proceso en la muestra de test\n",
    "    Número de documentos capturados\n",
    "    Número de datos captados\n",
    "3) Resuelve el problema\n",
    "\n",
    "4) Usabilidad\n"
   ]
  },
  {
   "cell_type": "markdown",
   "metadata": {},
   "source": [
    "## SOLUCIÓN DE DUDAS\n",
    "\n",
    "* Por ahora todos los documentos van a ser .pdf (salvo digan algo diferente en adelante)\n",
    "\n",
    "* Imágenes guardadas en .pdf\n",
    "\n",
    "* Documentos en español\n",
    "\n",
    "* Entregas parciales:\n",
    "\n",
    "    Día 1 . Cómo plantea la solución\n",
    "    \n",
    "    Día 2 . Avances de la solución (algoritmos, bibliotecas usadas, estructura, etc)\n",
    "    \n",
    "    Día 3 . Producto final. (tres urls)\n",
    "    \n",
    "            * Vídeo demo explicando la herramienta (herramienta en funcionamiento)\n",
    "            * Link de enlace y uso de la herramienta (appi, interfaz)\n",
    "            * Enlace al repositorio del código\n",
    "            \n",
    "* Cualquier lenguaje con acceso a todos (no de empresas).\n",
    "\n",
    "* Los documenos pueden ser varias páginas.\n",
    "\n",
    "* Punto adicional si lee todas las variables. Fuera del reto si se pretende analizar el crédito o la información entregada.\n",
    "\n",
    "* Usuario de la información el Banco\n",
    "\n",
    "* No se beneficia el uso de software open sorf, hay un patrocinador AWS.\n",
    "\n",
    "* Cambia el orden o la estructura  del balace\n",
    "\n",
    "* Problemas con lectura, hace parte del reto (limpieza de imágenes)\n",
    "\n",
    "* Se planea tener 12 equipos por reto (competencia)\n",
    "            "
   ]
  }
 ],
 "metadata": {
  "kernelspec": {
   "display_name": "Python 3",
   "language": "python",
   "name": "python3"
  },
  "language_info": {
   "codemirror_mode": {
    "name": "ipython",
    "version": 3
   },
   "file_extension": ".py",
   "mimetype": "text/x-python",
   "name": "python",
   "nbconvert_exporter": "python",
   "pygments_lexer": "ipython3",
   "version": "3.6.9"
  }
 },
 "nbformat": 4,
 "nbformat_minor": 2
}
