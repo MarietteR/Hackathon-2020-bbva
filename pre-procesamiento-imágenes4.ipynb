{
 "cells": [
  {
   "cell_type": "code",
   "execution_count": 1,
   "metadata": {},
   "outputs": [],
   "source": [
    "import numpy as np\n",
    "import matplotlib.pyplot as plt\n",
    "import cv2 as cv\n",
    "from scipy.signal import convolve2d as conv\n",
    "%matplotlib inline"
   ]
  },
  {
   "cell_type": "code",
   "execution_count": 127,
   "metadata": {},
   "outputs": [],
   "source": [
    "def Lectura(imgPath): #Función para leer la imagen\n",
    "    img = cv.imread(imgPath)\n",
    "    return img\n",
    "\n",
    "def mostrar(img): #Función para mostrar las imágenes\n",
    "    cv.imshow('Imagen', img)\n",
    "    k = cv.waitKey(0)\n",
    "    if k == ord(\"s\"):\n",
    "        cv.imwrite(\"Imagen.png\", img)\n",
    "    cv.destroyAllWindows()\n",
    "def grises(img): #Función para convertir la imágen a escala de grises\n",
    "    img_gris = cv.cvtColor(img, cv.COLOR_BGR2GRAY)\n",
    "    img_gris_double = img_gris / np.max(img_gris)    \n",
    "    return [img_gris, img_gris_double]\n",
    "\n",
    "def umbrales(img_g): #Función para defini un umbral simple (5 maneras de hacerlo)\n",
    "    ret,Truncado = cv.threshold(img_g,210,255,cv.THRESH_TRUNC)\n",
    "    return Truncado\n",
    "\n",
    "def convol(img):\n",
    "    kernel = np.ones((2,2),np.float32)/4\n",
    "    dst = cv.filter2D(img,-1,kernel)\n",
    "    return dst\n",
    "\n",
    "def transf_morf(img_g):\n",
    "    kernel = np.ones((2,2),np.uint8)\n",
    "    erosion = cv.erode(img_g,kernel,iterations = 1)\n",
    "    dilation = cv.dilate(img_g,kernel,iterations = 1)\n",
    "    opening = cv.morphologyEx(img_g, cv.MORPH_OPEN, kernel)\n",
    "    #closing = cv.morphologyEx(img_g, cv.MORPH_CLOSE, kernel)\n",
    "    #gradient = cv.morphologyEx(img_g, cv.MORPH_GRADIENT, kernel)\n",
    "    #tophat = cv.morphologyEx(img_g, cv.MORPH_TOPHAT, kernel)\n",
    "    #blackhat = cv.morphologyEx(img_g, cv.MORPH_BLACKHAT, kernel)\n",
    "    return [erosion, dilation, opening]"
   ]
  },
  {
   "cell_type": "code",
   "execution_count": 128,
   "metadata": {},
   "outputs": [],
   "source": [
    "imgPath = 'Imágenes de entrenamiento/Documentos financieros/P&G5.jpg'\n",
    "mostrar(Lectura(imgPath))\n",
    "mostrar(umbrales(grises(Lectura(imgPath))[0]))\n",
    "mostrar(convol(Lectura(imgPath)))\n",
    "mostrar(transf_morf(grises(Lectura(imgPath))[0])[0])\n",
    "mostrar(transf_morf(grises(Lectura(imgPath))[0])[1])#quitar\n",
    "mostrar(transf_morf(grises(Lectura(imgPath))[0])[2])"
   ]
  },
  {
   "cell_type": "code",
   "execution_count": 125,
   "metadata": {},
   "outputs": [],
   "source": [
    "mostrar(convol(umbrales(grises(Lectura(imgPath))[0])))\n",
    "mostrar(transf_morf(convol(umbrales(grises(Lectura(imgPath))[0])))[0])\n",
    "mostrar(transf_morf(transf_morf(grises(Lectura(imgPath))[0])[0])[1])\n",
    "mostrar(convol(transf_morf(transf_morf(grises(Lectura(imgPath))[0])[0])[1]))\n",
    "#mostrar(transf_morf(transf_morf(grises(Lectura(imgPath))[0])[1])[0]) #no mejora"
   ]
  },
  {
   "cell_type": "code",
   "execution_count": 84,
   "metadata": {},
   "outputs": [],
   "source": [
    "def transf_morf2(img_g):\n",
    "    kernel = np.ones((2,2),np.uint8)\n",
    "    erosion = cv.erode(img_g,kernel,iterations = 1)\n",
    "    dilation = cv.dilate(erosion,kernel,iterations = 1)\n",
    "    return [erosion, dilation]"
   ]
  },
  {
   "cell_type": "code",
   "execution_count": 126,
   "metadata": {},
   "outputs": [],
   "source": [
    "mostrar(transf_morf2(grises(Lectura(imgPath))[0])[0])\n",
    "mostrar(transf_morf2(grises(Lectura(imgPath))[0])[1])\n",
    "mostrar(umbrales(transf_morf2(grises(Lectura(imgPath))[0])[1]))"
   ]
  }
 ],
 "metadata": {
  "kernelspec": {
   "display_name": "Python 3",
   "language": "python",
   "name": "python3"
  },
  "language_info": {
   "codemirror_mode": {
    "name": "ipython",
    "version": 3
   },
   "file_extension": ".py",
   "mimetype": "text/x-python",
   "name": "python",
   "nbconvert_exporter": "python",
   "pygments_lexer": "ipython3",
   "version": "3.6.9"
  }
 },
 "nbformat": 4,
 "nbformat_minor": 2
}
